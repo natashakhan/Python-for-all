{
 "cells": [
  {
   "cell_type": "code",
   "execution_count": 2,
   "metadata": {},
   "outputs": [
    {
     "name": "stdout",
     "output_type": "stream",
     "text": [
      "Yep, it's cat.\n"
     ]
    }
   ],
   "source": [
    "species = \"cat\"\n",
    "if species == \"cat\":\n",
    "    print(\"Yep, it's cat.\")\n",
    "if species != \"cat\":\n",
    "    print(\"Nope, not cat.\")"
   ]
  },
  {
   "cell_type": "code",
   "execution_count": 6,
   "metadata": {},
   "outputs": [
    {
     "name": "stdout",
     "output_type": "stream",
     "text": [
      "buy the donuts\n"
     ]
    }
   ],
   "source": [
    "donut_condition = \"fresh\"\n",
    "if donut_condition == \"fresh\":\n",
    " buy_score = 10\n",
    "elif donut_price == \"low\":\n",
    " buy_score = 5\n",
    "else:\n",
    " buy_score = 0\n",
    "print(\"buy the donuts\")"
   ]
  },
  {
   "cell_type": "code",
   "execution_count": 7,
   "metadata": {},
   "outputs": [
    {
     "name": "stdout",
     "output_type": "stream",
     "text": [
      "long calculation\n"
     ]
    }
   ],
   "source": [
    "if 2 + 3 == 4:\n",
    "  x = 0\n",
    "elif 2 - 1 == 1:\n",
    "  x = 1\n",
    "elif 3 + 3 == 6:\n",
    "  x = 2\n",
    "else:\n",
    "  x = 3\n",
    "print(\"long calculation\")"
   ]
  },
  {
   "cell_type": "code",
   "execution_count": 12,
   "metadata": {},
   "outputs": [
    {
     "name": "stdout",
     "output_type": "stream",
     "text": [
      "ok\n"
     ]
    }
   ],
   "source": [
    "a = 10\n",
    "b = 10\n",
    "c = 70\n",
    "d = 70\n",
    "if a == b:\n",
    "  print(\"ok\")\n",
    "elif c == d:\n",
    "  print(\"ok\")"
   ]
  },
  {
   "cell_type": "code",
   "execution_count": null,
   "metadata": {},
   "outputs": [],
   "source": []
  }
 ],
 "metadata": {
  "kernelspec": {
   "display_name": "Python 3",
   "language": "python",
   "name": "python3"
  },
  "language_info": {
   "codemirror_mode": {
    "name": "ipython",
    "version": 3
   },
   "file_extension": ".py",
   "mimetype": "text/x-python",
   "name": "python",
   "nbconvert_exporter": "python",
   "pygments_lexer": "ipython3",
   "version": "3.7.1"
  }
 },
 "nbformat": 4,
 "nbformat_minor": 2
}
